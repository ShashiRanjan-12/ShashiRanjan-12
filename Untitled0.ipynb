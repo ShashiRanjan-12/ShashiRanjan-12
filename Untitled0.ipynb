{
  "nbformat": 4,
  "nbformat_minor": 0,
  "metadata": {
    "colab": {
      "name": "Untitled0.ipynb",
      "provenance": [],
      "authorship_tag": "ABX9TyPEBImzibSMlbOwObgEg9Q8",
      "include_colab_link": true
    },
    "kernelspec": {
      "name": "python3",
      "display_name": "Python 3"
    },
    "language_info": {
      "name": "python"
    }
  },
  "cells": [
    {
      "cell_type": "markdown",
      "metadata": {
        "id": "view-in-github",
        "colab_type": "text"
      },
      "source": [
        "<a href=\"https://colab.research.google.com/github/ShashiRanjan-12/ShashiRanjan-12/blob/main/Untitled0.ipynb\" target=\"_parent\"><img src=\"https://colab.research.google.com/assets/colab-badge.svg\" alt=\"Open In Colab\"/></a>"
      ]
    },
    {
      "cell_type": "code",
      "execution_count": 3,
      "metadata": {
        "colab": {
          "base_uri": "https://localhost:8080/"
        },
        "id": "_QK4OJI1HlCL",
        "outputId": "d58c5674-6b93-43f4-b87a-56fa5500fbb7"
      },
      "outputs": [
        {
          "output_type": "stream",
          "name": "stdout",
          "text": [
            "[2, 3, 4, 'shashi']\n",
            "<class 'list'>\n"
          ]
        }
      ],
      "source": [
        "a=[1,2,3,4,\"shashi\"]\n",
        "print(a[1:5:1])\n",
        "print(type(a))"
      ]
    },
    {
      "cell_type": "code",
      "source": [
        ""
      ],
      "metadata": {
        "id": "BdVBdbONJfux"
      },
      "execution_count": null,
      "outputs": []
    }
  ]
}