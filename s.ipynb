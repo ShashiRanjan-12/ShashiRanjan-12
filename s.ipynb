{
  "nbformat": 4,
  "nbformat_minor": 0,
  "metadata": {
    "colab": {
      "name": "s.ipynb",
      "provenance": [],
      "authorship_tag": "ABX9TyPOkZg4r58WePSyDTSa2eW+",
      "include_colab_link": true
    },
    "kernelspec": {
      "name": "python3",
      "display_name": "Python 3"
    },
    "language_info": {
      "name": "python"
    }
  },
  "cells": [
    {
      "cell_type": "markdown",
      "metadata": {
        "id": "view-in-github",
        "colab_type": "text"
      },
      "source": [
        "<a href=\"https://colab.research.google.com/github/ShashiRanjan-12/ShashiRanjan-12/blob/main/s.ipynb\" target=\"_parent\"><img src=\"https://colab.research.google.com/assets/colab-badge.svg\" alt=\"Open In Colab\"/></a>"
      ]
    },
    {
      "cell_type": "code",
      "execution_count": 23,
      "metadata": {
        "id": "OUq1vMX3eHd4",
        "colab": {
          "base_uri": "https://localhost:8080/"
        },
        "outputId": "b739049a-235c-444c-e23b-9c16d3672016"
      },
      "outputs": [
        {
          "output_type": "stream",
          "name": "stdout",
          "text": [
            "Enter 2 values: 12 13\n",
            "12  +  13  =  25\n",
            " the random number is  44\n"
          ]
        }
      ],
      "source": [
        "a,b = [int(a) for a in input(\"Enter 2 values: \").split()]\n",
        "print(a,\" + \",b,\" = \", a+b)\n",
        "\n",
        "import random \n",
        "a=random.randint(12,300)\n",
        "print(\" the random number is \",a)\n",
        "\n",
        "\n",
        "\n",
        "\n"
      ]
    }
  ]
}